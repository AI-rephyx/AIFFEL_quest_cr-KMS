{
 "cells": [
  {
   "cell_type": "markdown",
   "metadata": {
    "id": "zmVKhvy87J46"
   },
   "source": [
    "#회고\n",
    "\n",
    "####강민성 :\n",
    "정말 머리가 터질 것 같았습니다.\n",
    "모르는 부분이 너무 많아서 gpt의 힘을 빌리려고 했는데 마침 openAI네트워크 환경 이슈가 있어서 사용하지 못하고 구글링을 통해 코딩했습니다.\n",
    "그래서 그런지 디버깅을 한 흔적이 없고,,\n",
    "아직 한달도 공부하지 않았지만 실력이 너무 부족한 것 같습니다.\n",
    "\n",
    "특히 계좌번호에서 random모듈을 세자리 두자리 네자리 이렇게 나열하는 것과 이자 계산하는 것이 어려웠구요, Monster의 체럭 방어력 레벨을 설정하는 것과 경험치를 획득하는 파트가 정말 머리 아팠습니다. 아, 마지막에 main()도 실행이 안되서 한참 헤맸습니다.\n",
    "\n",
    "많이 헤맸지만 그래도 어찌저찌 해내서 기분이 좋아요."
   ]
  }
 ],
 "metadata": {
  "colab": {
   "provenance": []
  },
  "kernelspec": {
   "display_name": "Python 3",
   "name": "python3"
  },
  "language_info": {
   "name": "python"
  }
 },
 "nbformat": 4,
 "nbformat_minor": 0
}
