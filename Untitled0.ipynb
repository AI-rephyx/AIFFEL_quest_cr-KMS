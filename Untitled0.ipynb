{
  "nbformat": 4,
  "nbformat_minor": 0,
  "metadata": {
    "colab": {
      "provenance": [],
      "include_colab_link": true
    },
    "kernelspec": {
      "name": "python3",
      "display_name": "Python 3"
    },
    "language_info": {
      "name": "python"
    }
  },
  "cells": [
    {
      "cell_type": "markdown",
      "metadata": {
        "id": "view-in-github",
        "colab_type": "text"
      },
      "source": [
        "<a href=\"https://colab.research.google.com/github/Mins-nb/AIFFEL_quest_cr/blob/master/Untitled0.ipynb\" target=\"_parent\"><img src=\"https://colab.research.google.com/assets/colab-badge.svg\" alt=\"Open In Colab\"/></a>"
      ]
    },
    {
      "cell_type": "code",
      "execution_count": 15,
      "metadata": {
        "colab": {
          "base_uri": "https://localhost:8080/"
        },
        "id": "ZJmr9d8RESJI",
        "outputId": "090170d0-fbc5-432e-d06d-9cc53efab8fe"
      },
      "outputs": [
        {
          "output_type": "stream",
          "name": "stdout",
          "text": [
            "단어를 입력하세요 : level\n",
            "회문입니다.\n"
          ]
        }
      ],
      "source": [
        "def palindrome(word):\n",
        "    return word == word[::-1]\n",
        "\n",
        "text = input(\"단어를 입력하세요 : \")\n",
        "\n",
        "if palindrome(text):\n",
        "  print(\"회문입니다.\")\n",
        "\n",
        "else:\n",
        "  print(\"회문이 아닙니다.\")\n"
      ]
    },
    {
      "cell_type": "code",
      "source": [],
      "metadata": {
        "id": "D942wIL3K5vK"
      },
      "execution_count": null,
      "outputs": []
    },
    {
      "cell_type": "markdown",
      "source": [],
      "metadata": {
        "id": "yp2Zn1DGErvX"
      }
    }
  ]
}